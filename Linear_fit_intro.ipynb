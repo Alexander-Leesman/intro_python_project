{
 "cells": [
  {
   "cell_type": "code",
   "execution_count": 8,
   "id": "18a7f521-6357-473b-bdbb-d4def0ccaa14",
   "metadata": {},
   "outputs": [],
   "source": [
    "import numpy as np\n",
    "from astropy.io import ascii\n",
    "from astropy.table import Table"
   ]
  },
  {
   "cell_type": "code",
   "execution_count": 15,
   "id": "4583ed0c-d225-45f5-bb21-ee9c06df9744",
   "metadata": {},
   "outputs": [
    {
     "name": "stdout",
     "output_type": "stream",
     "text": [
      "[ 0.          0.34482759  0.68965517  1.03448276  1.37931034  1.72413793\n",
      "  2.06896552  2.4137931   2.75862069  3.10344828  3.44827586  3.79310345\n",
      "  4.13793103  4.48275862  4.82758621  5.17241379  5.51724138  5.86206897\n",
      "  6.20689655  6.55172414  6.89655172  7.24137931  7.5862069   7.93103448\n",
      "  8.27586207  8.62068966  8.96551724  9.31034483  9.65517241 10.        ]\n",
      "[ 1.73605093  3.6616867   1.18057784  2.61023171  5.95986212  4.19414535\n",
      "  5.81784632  4.36012847  6.61494503  8.40938074  9.93824473  9.58053307\n",
      "  7.66677883 11.16271344 12.60027543 11.27176999 12.40007799 13.95308359\n",
      " 13.38008213 16.07981481 14.14410793 14.17439339 10.04492371 17.43086475\n",
      " 17.06932898 18.40780478 21.25215536 21.33588224 19.68045291 23.41451091]\n",
      "[1.60423822 1.94254136 1.06175292 0.31294443 1.58832935 2.17775318\n",
      " 0.50906212 1.14346873 0.92035736 1.64063992 2.00403526 2.86596018\n",
      " 2.10636437 2.72173848 1.84885394 0.6376689  0.91616065 2.87629562\n",
      " 1.50697538 2.99815586 0.3878733  0.91907335 2.61132808 0.59679898\n",
      " 0.62176799 2.451225   1.30293876 1.54748135 1.27070009 1.31945726]\n"
     ]
    }
   ],
   "source": [
    "data = ascii.read(\"linear_data_v1.csv\")\n",
    "#print(data)\n",
    "\n",
    "x = np.array(data['x'])\n",
    "y = np.array(data['noisy_y'])\n",
    "yerror = np.array(data['y_error'])\n",
    "\n"
   ]
  },
  {
   "cell_type": "code",
   "execution_count": null,
   "id": "86f3b240-13b2-434c-874b-8a439e6f920f",
   "metadata": {},
   "outputs": [],
   "source": []
  }
 ],
 "metadata": {
  "kernelspec": {
   "display_name": "Python 3 (ipykernel)",
   "language": "python",
   "name": "python3"
  },
  "language_info": {
   "codemirror_mode": {
    "name": "ipython",
    "version": 3
   },
   "file_extension": ".py",
   "mimetype": "text/x-python",
   "name": "python",
   "nbconvert_exporter": "python",
   "pygments_lexer": "ipython3",
   "version": "3.11.13"
  }
 },
 "nbformat": 4,
 "nbformat_minor": 5
}
