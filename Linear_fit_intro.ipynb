{
 "cells": [
  {
   "cell_type": "code",
   "execution_count": 5,
   "id": "18a7f521-6357-473b-bdbb-d4def0ccaa14",
   "metadata": {},
   "outputs": [],
   "source": [
    "import numpy as np\n"
   ]
  },
  {
   "cell_type": "code",
   "execution_count": null,
   "id": "4583ed0c-d225-45f5-bb21-ee9c06df9744",
   "metadata": {},
   "outputs": [],
   "source": [
    "'''\n",
    "need help getting linear_data_v1.csv into Jupyter notebook in a way I know is right\n",
    "https://www.great-esf.eu/AstroStats13-Python/input_output/asciifiles.html says one way\n",
    "Internet says a way with just numpy.\n",
    "'''"
   ]
  }
 ],
 "metadata": {
  "kernelspec": {
   "display_name": "Python 3 (ipykernel)",
   "language": "python",
   "name": "python3"
  },
  "language_info": {
   "codemirror_mode": {
    "name": "ipython",
    "version": 3
   },
   "file_extension": ".py",
   "mimetype": "text/x-python",
   "name": "python",
   "nbconvert_exporter": "python",
   "pygments_lexer": "ipython3",
   "version": "3.11.13"
  }
 },
 "nbformat": 4,
 "nbformat_minor": 5
}
